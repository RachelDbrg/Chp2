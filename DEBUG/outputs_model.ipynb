{
 "cells": [
  {
   "cell_type": "code",
   "execution_count": null,
   "id": "aaf8cd68",
   "metadata": {},
   "outputs": [],
   "source": [
    "# Get the final logged carrying capacities\n",
    "_, k_H1_final = logged_data[\"k_H1\"][-1]\n",
    "_, k_H2_final = logged_data[\"k_H2\"][-1]\n",
    "\n",
    "_, safe_k_H1_final = logged_data[\"safe_k_H1\"][-1]\n",
    "_, safe_k_H2_final = logged_data[\"safe_k_H2\"][-1]\n",
    "\n",
    "_, predation_H1 = logged_data[\"predation_H1\"][-1]\n",
    "_, predation_H2 = logged_data[\"predation_H2\"][-1]\n",
    "\n",
    "_, safe_k_V1_final = logged_data[\"safe_k_V1\"][-1]\n",
    "_, safe_k_V2_final = logged_data[\"safe_k_V2\"][-1]\n",
    "\n",
    "\n"
   ]
  },
  {
   "cell_type": "code",
   "execution_count": null,
   "id": "e774cb67",
   "metadata": {},
   "outputs": [],
   "source": [
    "_, k_H1_initial = logged_data[\"k_H1\"][0]\n",
    "_, k_H2_initial = logged_data[\"k_H2\"][0]\n"
   ]
  },
  {
   "cell_type": "code",
   "execution_count": null,
   "id": "52ff274c",
   "metadata": {},
   "outputs": [],
   "source": [
    "import matplotlib.pyplot as plt\n",
    "\n",
    "def plot_carrying_capacities(k_H1, k_H2, Lx, Ly, time_label=\"final\"):\n",
    "    fig, axes = plt.subplots(1, 2, figsize=(12, 5))\n",
    "\n",
    "    im1 = axes[0].imshow(safe_k_H1_final, extent=[0, Lx, 0, Ly], origin=\"lower\", cmap=\"Blues\")\n",
    "    axes[0].set_title(f\"k_H1 (H1 Carrying Capacity) at t = {time_label}\")\n",
    "    axes[0].set_xlabel(\"x\")\n",
    "    axes[0].set_ylabel(\"y\")\n",
    "    plt.colorbar(im1, ax=axes[0])\n",
    "\n",
    "    im2 = axes[1].imshow(safe_k_H2_final, extent=[0, Lx, 0, Ly], origin=\"lower\", cmap=\"Purples\")\n",
    "    axes[1].set_title(f\"k_H2 (H2 Carrying Capacity) at t = {time_label}\")\n",
    "    axes[1].set_xlabel(\"x\")\n",
    "    axes[1].set_ylabel(\"y\")\n",
    "    plt.colorbar(im2, ax=axes[1])\n",
    "\n",
    "    plt.tight_layout()\n",
    "    plt.show()\n"
   ]
  },
  {
   "cell_type": "code",
   "execution_count": null,
   "id": "0d5f3140",
   "metadata": {},
   "outputs": [],
   "source": [
    "plot_carrying_capacities(k_H1_final, k_H2_final, Lx, Ly, time_label=\"final\")\n",
    "plot_carrying_capacities(safe_k_H1_final, safe_k_H2_final, Lx, Ly, time_label=\"final\")\n"
   ]
  },
  {
   "cell_type": "code",
   "execution_count": null,
   "id": "27263eb9",
   "metadata": {},
   "outputs": [],
   "source": [
    "print(\"k_H1_initial min:\", np.min(safe_k_H1_final))\n",
    "print(\"k_H1_initial max:\", np.max(safe_k_H1_final))\n",
    "\n",
    "print(\"k_H2_initial min:\", np.min(safe_k_H2_final))\n",
    "print(\"k_H2_initial max:\", np.max(safe_k_H2_final))\n",
    "\n",
    "print(\"k_V1_initial min:\", np.min(safe_k_V1_final))\n",
    "print(\"k_V2_initial max:\", np.max(safe_k_V2_final))\n"
   ]
  },
  {
   "cell_type": "code",
   "execution_count": null,
   "id": "9ccac131",
   "metadata": {},
   "outputs": [],
   "source": [
    "H1_all_time = []\n",
    "\n",
    "for y in sol.y.T:  # sol.y.T has shape (Nt, total_state_size)\n",
    "    _, _, H1, _, _ = unflatten_fields(y, Nx, Ny, 5)  # Ensure this returns (Nx, Ny)\n",
    "    H1_all_time.append(H1)\n",
    "\n",
    "H1_all_time = np.stack(H1_all_time, axis=0)  # Final shape: (Nt, Nx, Ny)\n",
    "print(\"H1_all_time shape:\", H1_all_time.shape)\n"
   ]
  },
  {
   "cell_type": "code",
   "execution_count": null,
   "id": "f3b198e1",
   "metadata": {},
   "outputs": [],
   "source": [
    "H1_final = H1_all_time[-1]  # Shape: (Nx, Ny)\n",
    "\n",
    "mid_x = Nx // 2\n",
    "H1_left_final = H1_final[mid_x:, :]     # Shape: (Nx//2, Ny)\n",
    "H1_right_final = H1_final[:mid_x, :]    # Shape: (Nx//2, Ny)\n"
   ]
  }
 ],
 "metadata": {
  "language_info": {
   "name": "python"
  }
 },
 "nbformat": 4,
 "nbformat_minor": 5
}
