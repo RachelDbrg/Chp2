{
 "cells": [
  {
   "cell_type": "code",
   "execution_count": 2,
   "id": "cde9d237",
   "metadata": {},
   "outputs": [
    {
     "ename": "NameError",
     "evalue": "name 'logged_data' is not defined",
     "output_type": "error",
     "traceback": [
      "\u001b[0;31m---------------------------------------------------------------------------\u001b[0m",
      "\u001b[0;31mNameError\u001b[0m                                 Traceback (most recent call last)",
      "Cell \u001b[0;32mIn[2], line 4\u001b[0m\n\u001b[1;32m      1\u001b[0m \u001b[38;5;66;03m# The simulation needs to be ran before and the variable has to be looged\u001b[39;00m\n\u001b[1;32m      2\u001b[0m \u001b[38;5;28;01mimport\u001b[39;00m \u001b[38;5;21;01mnumpy\u001b[39;00m \u001b[38;5;28;01mas\u001b[39;00m \u001b[38;5;21;01mnp\u001b[39;00m\n\u001b[0;32m----> 4\u001b[0m safe_r_P_means \u001b[38;5;241m=\u001b[39m [np\u001b[38;5;241m.\u001b[39mmean(entry[\u001b[38;5;241m1\u001b[39m]) \u001b[38;5;28;01mfor\u001b[39;00m entry \u001b[38;5;129;01min\u001b[39;00m \u001b[43mlogged_data\u001b[49m[\u001b[38;5;124m\"\u001b[39m\u001b[38;5;124msafe_r_P\u001b[39m\u001b[38;5;124m\"\u001b[39m]]\n\u001b[1;32m      5\u001b[0m times \u001b[38;5;241m=\u001b[39m [entry[\u001b[38;5;241m0\u001b[39m] \u001b[38;5;28;01mfor\u001b[39;00m entry \u001b[38;5;129;01min\u001b[39;00m logged_data[\u001b[38;5;124m\"\u001b[39m\u001b[38;5;124msafe_r_P\u001b[39m\u001b[38;5;124m\"\u001b[39m]]\n\u001b[1;32m      7\u001b[0m plt\u001b[38;5;241m.\u001b[39mfigure(figsize\u001b[38;5;241m=\u001b[39m(\u001b[38;5;241m8\u001b[39m, \u001b[38;5;241m5\u001b[39m))\n",
      "\u001b[0;31mNameError\u001b[0m: name 'logged_data' is not defined"
     ]
    }
   ],
   "source": [
    "# The simulation needs to be ran before and the variable has to be looged\n",
    "import numpy as np\n",
    "\n",
    "safe_r_P_means = [np.mean(entry[1]) for entry in logged_data[\"safe_r_P\"]]\n",
    "times = [entry[0] for entry in logged_data[\"safe_r_P\"]]\n",
    "\n",
    "plt.figure(figsize=(8, 5))\n",
    "plt.plot(times, safe_r_P_means, marker='o', linestyle='-')\n",
    "plt.xlabel('Time')\n",
    "plt.ylabel('Mean safe_r_P')\n",
    "plt.title('Mean safe_r_P Over Time')\n",
    "plt.grid(True)\n",
    "plt.tight_layout()\n",
    "plt.show()\n"
   ]
  }
 ],
 "metadata": {
  "kernelspec": {
   "display_name": "Python 3",
   "language": "python",
   "name": "python3"
  },
  "language_info": {
   "codemirror_mode": {
    "name": "ipython",
    "version": 3
   },
   "file_extension": ".py",
   "mimetype": "text/x-python",
   "name": "python",
   "nbconvert_exporter": "python",
   "pygments_lexer": "ipython3",
   "version": "3.12.10"
  }
 },
 "nbformat": 4,
 "nbformat_minor": 5
}
